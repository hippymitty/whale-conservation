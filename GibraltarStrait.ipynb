{
 "cells": [
  {
   "cell_type": "code",
   "execution_count": 66,
   "source": [
    "import netCDF4                        # pip install netCDF4\n",
    "import xarray as xr                   # pip install xarray\n",
    "import cmocean                        # pip install cmocean\n",
    "import os\n",
    "import numpy as np\n",
    "import matplotlib.pyplot as plt"
   ],
   "outputs": [],
   "metadata": {}
  },
  {
   "cell_type": "code",
   "execution_count": 73,
   "source": [
    "#chlorophyll files\n",
    "\n",
    "parent_dir = os.getcwd()\n",
    "file_path = os.path.join(parent_dir, 'data/earthdata')\n",
    "\n",
    "output_dir = os.path.join(parent_dir, '/data/visualisations/GS')\n",
    "try:\n",
    "    os.mkdir(output_dir)\n",
    "except OSError as error:\n",
    "    print('Folder for visualization output exists.')\n",
    "\n",
    "files = [item for item in os.listdir(file_path) if not item.startswith('.')]"
   ],
   "outputs": [
    {
     "output_type": "stream",
     "name": "stdout",
     "text": [
      "Folder for visualization output exists.\n"
     ]
    }
   ],
   "metadata": {}
  },
  {
   "cell_type": "code",
   "execution_count": 68,
   "source": [
    "files"
   ],
   "outputs": [
    {
     "output_type": "execute_result",
     "data": {
      "text/plain": [
       "['A20192742019304.L3m_MO_CHL_chlor_a_4km.nc',\n",
       " 'A20210912021120.L3m_MO_CHL_chlor_a_4km.nc',\n",
       " 'A20210012021031.L3m_MO_CHL_chlor_a_4km.nc',\n",
       " 'A20192442019273.L3m_MO_CHL_chlor_a_4km.nc',\n",
       " 'A20200322020060.L3m_MO_CHL_chlor_a_4km.nc',\n",
       " 'A20211212021151.L3m_MO_CHL_chlor_a_4km.nc',\n",
       " 'A20202452020274.L3m_MO_CHL_chlor_a_4km.nc',\n",
       " 'A20200012020031.L3m_MO_CHL_chlor_a_4km.nc',\n",
       " 'A20211822021212.L3m_MO_CHL_chlor_a_4km.nc',\n",
       " 'A20192132019243.L3m_MO_CHL_chlor_a_4km.nc',\n",
       " 'A20201832020213.L3m_MO_CHL_chlor_a_4km.nc',\n",
       " 'A20210322021059.L3m_MO_CHL_chlor_a_4km.nc',\n",
       " 'A20193352019365.L3m_MO_CHL_chlor_a_4km.nc',\n",
       " 'A20203062020335.L3m_MO_CHL_chlor_a_4km.nc',\n",
       " 'A20201532020182.L3m_MO_CHL_chlor_a_4km.nc',\n",
       " 'A20202752020305.L3m_MO_CHL_chlor_a_4km.nc',\n",
       " 'A20203362020366.L3m_MO_CHL_chlor_a_4km.nc',\n",
       " 'A20191822019212.L3m_MO_CHL_chlor_a_4km.nc',\n",
       " 'A20200922020121.L3m_MO_CHL_chlor_a_4km.nc',\n",
       " 'A20210602021090.L3m_MO_CHL_chlor_a_4km.nc',\n",
       " 'A20202142020244.L3m_MO_CHL_chlor_a_4km.nc',\n",
       " 'A20193052019334.L3m_MO_CHL_chlor_a_4km.nc',\n",
       " 'A20211522021181.L3m_MO_CHL_chlor_a_4km.nc',\n",
       " 'A20201222020152.L3m_MO_CHL_chlor_a_4km.nc',\n",
       " 'A20200612020091.L3m_MO_CHL_chlor_a_4km.nc']"
      ]
     },
     "metadata": {},
     "execution_count": 68
    }
   ],
   "metadata": {}
  },
  {
   "cell_type": "code",
   "execution_count": 69,
   "source": [
    "datasets = [xr.open_dataset('./data/earthdata/' + file) for file in files]"
   ],
   "outputs": [],
   "metadata": {}
  },
  {
   "cell_type": "code",
   "execution_count": 70,
   "source": [
    "datasets[0].data_vars"
   ],
   "outputs": [
    {
     "output_type": "execute_result",
     "data": {
      "text/plain": [
       "Data variables:\n",
       "    chlor_a  (lat, lon) float32 ...\n",
       "    palette  (rgb, eightbitcolor) uint8 ..."
      ]
     },
     "metadata": {},
     "execution_count": 70
    }
   ],
   "metadata": {}
  },
  {
   "cell_type": "code",
   "execution_count": 74,
   "source": [
    "site_lat = 35.981472\n",
    "site_lon = -5.472856\n",
    "\n",
    "for i in range(len(datasets)):\n",
    "    ds_slice = datasets[i].sel(lat=slice(site_lat+10, site_lat-10), lon=slice(site_lon-10, site_lon+10))\n",
    "    ds_slice.chlor_a.plot(x='lon', y='lat', figsize=(12,12), vmin=0, vmax=3, cmap=cmocean.cm.dense)\n",
    "    plt.title('Gibraltar Strait' + datasets[i].attrs['time_coverage_start'][:7])\n",
    "    plt.tight_layout()\n",
    "    plt.savefig('./data/visualisations/GS/' + datasets[i].attrs['time_coverage_start'][:7] + '_Gibraltar_Strait_.png', format=\"PNG\")\n"
   ],
   "outputs": [],
   "metadata": {}
  },
  {
   "cell_type": "code",
   "execution_count": 71,
   "source": [],
   "outputs": [],
   "metadata": {}
  },
  {
   "cell_type": "code",
   "execution_count": null,
   "source": [],
   "outputs": [],
   "metadata": {}
  }
 ],
 "metadata": {
  "kernelspec": {
   "display_name": "Python 3",
   "language": "python",
   "name": "python3"
  },
  "language_info": {
   "codemirror_mode": {
    "name": "ipython",
    "version": 3
   },
   "file_extension": ".py",
   "mimetype": "text/x-python",
   "name": "python",
   "nbconvert_exporter": "python",
   "pygments_lexer": "ipython3",
   "version": "3.8.11"
  }
 },
 "nbformat": 4,
 "nbformat_minor": 5
}